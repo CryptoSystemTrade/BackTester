{
 "cells": [
  {
   "cell_type": "code",
   "execution_count": 1,
   "metadata": {},
   "outputs": [],
   "source": [
    "import pandas as pd\n",
    "import numpy as np\n",
    "import warnings\n",
    "warnings.simplefilter('ignore')\n",
    "# CSVの読み込み\n",
    "raw = pd.read_csv(\"data/bybit/2022_1_BTC.csv\").dropna()"
   ]
  },
  {
   "cell_type": "code",
   "execution_count": 2,
   "metadata": {},
   "outputs": [],
   "source": [
    "# 終値のみ切り抜いて新たなデータフレームに格納\n",
    "data = raw[['close','timestamp']]"
   ]
  },
  {
   "cell_type": "code",
   "execution_count": 3,
   "metadata": {},
   "outputs": [],
   "source": [
    "# 移動平均線の格納\n",
    "data['SMA1'] = data['close'].rolling(10).mean()\n",
    "data['SMA2'] = data['close'].rolling(50).mean()\n",
    "data = data.dropna()"
   ]
  },
  {
   "cell_type": "code",
   "execution_count": 4,
   "metadata": {},
   "outputs": [],
   "source": [
    "# シグナルを作る\n",
    "data['b_sig'] = np.where(data['SMA1'] > data['SMA2'],1,0)\n",
    "data['s_sig'] = np.where(data['SMA2'] > data['SMA1'],1,0)"
   ]
  },
  {
   "cell_type": "code",
   "execution_count": 6,
   "metadata": {},
   "outputs": [],
   "source": [
    "# バックテスト用のクラスをインスタンス化\n",
    "from vector_tester import VectorTester\n",
    "vector_test = VectorTester(symbol=\"BTCUSD\")"
   ]
  },
  {
   "cell_type": "code",
   "execution_count": 7,
   "metadata": {},
   "outputs": [
    {
     "name": "stdout",
     "output_type": "stream",
     "text": [
      "----------start backtest----------\n",
      " ----   finish backtest   ----\n",
      " ----   elapsed time: 0.0066509246826171875   ---- \n"
     ]
    }
   ],
   "source": [
    "# バックテストを走らす\n",
    "result = vector_test.run_backtest(df=data)"
   ]
  },
  {
   "cell_type": "code",
   "execution_count": 8,
   "metadata": {},
   "outputs": [
    {
     "data": {
      "text/html": [
       "<div>\n",
       "<style scoped>\n",
       "    .dataframe tbody tr th:only-of-type {\n",
       "        vertical-align: middle;\n",
       "    }\n",
       "\n",
       "    .dataframe tbody tr th {\n",
       "        vertical-align: top;\n",
       "    }\n",
       "\n",
       "    .dataframe thead th {\n",
       "        text-align: right;\n",
       "    }\n",
       "</style>\n",
       "<table border=\"1\" class=\"dataframe\">\n",
       "  <thead>\n",
       "    <tr style=\"text-align: right;\">\n",
       "      <th></th>\n",
       "      <th>id</th>\n",
       "      <th>time</th>\n",
       "      <th>lot</th>\n",
       "      <th>side</th>\n",
       "      <th>price</th>\n",
       "    </tr>\n",
       "  </thead>\n",
       "  <tbody>\n",
       "    <tr>\n",
       "      <th>0</th>\n",
       "      <td>0</td>\n",
       "      <td>1641039300</td>\n",
       "      <td>1</td>\n",
       "      <td>BUY</td>\n",
       "      <td>46961.81</td>\n",
       "    </tr>\n",
       "    <tr>\n",
       "      <th>1</th>\n",
       "      <td>1</td>\n",
       "      <td>1641040200</td>\n",
       "      <td>-1</td>\n",
       "      <td>SELL</td>\n",
       "      <td>47024.46</td>\n",
       "    </tr>\n",
       "    <tr>\n",
       "      <th>2</th>\n",
       "      <td>2</td>\n",
       "      <td>1641041100</td>\n",
       "      <td>-1</td>\n",
       "      <td>SELL</td>\n",
       "      <td>47097.75</td>\n",
       "    </tr>\n",
       "    <tr>\n",
       "      <th>3</th>\n",
       "      <td>4</td>\n",
       "      <td>1641042900</td>\n",
       "      <td>1</td>\n",
       "      <td>BUY</td>\n",
       "      <td>47037.00</td>\n",
       "    </tr>\n",
       "    <tr>\n",
       "      <th>4</th>\n",
       "      <td>5</td>\n",
       "      <td>1641043800</td>\n",
       "      <td>1</td>\n",
       "      <td>BUY</td>\n",
       "      <td>47074.75</td>\n",
       "    </tr>\n",
       "    <tr>\n",
       "      <th>...</th>\n",
       "      <td>...</td>\n",
       "      <td>...</td>\n",
       "      <td>...</td>\n",
       "      <td>...</td>\n",
       "      <td>...</td>\n",
       "    </tr>\n",
       "    <tr>\n",
       "      <th>174</th>\n",
       "      <td>2788</td>\n",
       "      <td>1643548500</td>\n",
       "      <td>-1</td>\n",
       "      <td>SELL</td>\n",
       "      <td>37993.64</td>\n",
       "    </tr>\n",
       "    <tr>\n",
       "      <th>175</th>\n",
       "      <td>2832</td>\n",
       "      <td>1643588100</td>\n",
       "      <td>1</td>\n",
       "      <td>BUY</td>\n",
       "      <td>37697.37</td>\n",
       "    </tr>\n",
       "    <tr>\n",
       "      <th>176</th>\n",
       "      <td>2833</td>\n",
       "      <td>1643589000</td>\n",
       "      <td>-1</td>\n",
       "      <td>SELL</td>\n",
       "      <td>37181.60</td>\n",
       "    </tr>\n",
       "    <tr>\n",
       "      <th>177</th>\n",
       "      <td>2873</td>\n",
       "      <td>1643625000</td>\n",
       "      <td>1</td>\n",
       "      <td>BUY</td>\n",
       "      <td>37226.41</td>\n",
       "    </tr>\n",
       "    <tr>\n",
       "      <th>178</th>\n",
       "      <td>2874</td>\n",
       "      <td>1643625900</td>\n",
       "      <td>1</td>\n",
       "      <td>BUY</td>\n",
       "      <td>37313.39</td>\n",
       "    </tr>\n",
       "  </tbody>\n",
       "</table>\n",
       "<p>179 rows × 5 columns</p>\n",
       "</div>"
      ],
      "text/plain": [
       "       id        time  lot  side     price\n",
       "0       0  1641039300    1   BUY  46961.81\n",
       "1       1  1641040200   -1  SELL  47024.46\n",
       "2       2  1641041100   -1  SELL  47097.75\n",
       "3       4  1641042900    1   BUY  47037.00\n",
       "4       5  1641043800    1   BUY  47074.75\n",
       "..    ...         ...  ...   ...       ...\n",
       "174  2788  1643548500   -1  SELL  37993.64\n",
       "175  2832  1643588100    1   BUY  37697.37\n",
       "176  2833  1643589000   -1  SELL  37181.60\n",
       "177  2873  1643625000    1   BUY  37226.41\n",
       "178  2874  1643625900    1   BUY  37313.39\n",
       "\n",
       "[179 rows x 5 columns]"
      ]
     },
     "execution_count": 8,
     "metadata": {},
     "output_type": "execute_result"
    }
   ],
   "source": [
    "result"
   ]
  },
  {
   "cell_type": "code",
   "execution_count": 9,
   "metadata": {},
   "outputs": [
    {
     "name": "stdout",
     "output_type": "stream",
     "text": [
      " ----- Make PL Graph -----\n",
      "\n",
      "            取引回数: 179 \n",
      "実現損益: -0.2134633435742188 \n",
      "勝率: 0.2696629213483146 \n",
      "\n",
      "            平均損益: -0.0011925326456660268 \n",
      "総利益: 0.37550109232873785 \n",
      "\n",
      "            総損失: -0.5889644359029176\n",
      "PF: 0.6375615732265265\n",
      "最大DD: 0.24921736113917348(0.24919450399358672%)\n",
      "            \n",
      " ----   elapsed time: 0.010270357131958008   ---- \n",
      "損益額：-8696.050000000025\n"
     ]
    }
   ],
   "source": [
    "pl = vector_test.make_pl(result)"
   ]
  },
  {
   "cell_type": "code",
   "execution_count": 10,
   "metadata": {},
   "outputs": [
    {
     "data": {
      "text/plain": [
       "<AxesSubplot:>"
      ]
     },
     "execution_count": 10,
     "metadata": {},
     "output_type": "execute_result"
    },
    {
     "data": {
      "image/png": "[encoded data removed]",
      "text/plain": [
       "<Figure size 432x288 with 1 Axes>"
      ]
     },
     "metadata": {
      "needs_background": "light"
     },
     "output_type": "display_data"
    }
   ],
   "source": [
    "pl.PL_graph.plot()"
   ]
  },
  {
   "cell_type": "code",
   "execution_count": null,
   "metadata": {},
   "outputs": [],
   "source": []
  }
 ],
 "metadata": {
  "kernelspec": {
   "display_name": "Python 3.9.12 ('.venv': poetry)",
   "language": "python",
   "name": "python3"
  },
  "language_info": {
   "codemirror_mode": {
    "name": "ipython",
    "version": 3
   },
   "file_extension": ".py",
   "mimetype": "text/x-python",
   "name": "python",
   "nbconvert_exporter": "python",
   "pygments_lexer": "ipython3",
   "version": "3.9.12"
  },
  "orig_nbformat": 4,
  "vscode": {
   "interpreter": {
    "hash": "6522b1ab3bdfb965681e52515310fc7074235cb0d5a089a61027de745587e984"
   }
  }
 },
 "nbformat": 4,
 "nbformat_minor": 2
}
