{
 "cells": [
  {
   "cell_type": "code",
   "execution_count": 34,
   "metadata": {},
   "outputs": [],
   "source": [
    "import pandas as pd\n",
    "import util\n",
    "import warnings\n",
    "warnings.simplefilter('ignore')\n",
    "# CSVの読み込み\n",
    "df = pd.read_csv(\"../data/bybit/2022/5/2022_5_BTC.csv\").dropna()\n",
    "df = df.rename(columns={\"start_at\":\"timestamp\"})\n",
    "symbol = df[\"symbol\"].values[0]\n",
    "df = df.sort_values('timestamp')"
   ]
  },
  {
   "cell_type": "code",
   "execution_count": 35,
   "metadata": {},
   "outputs": [],
   "source": [
    "df = util.timestamp_change(df,15)"
   ]
  },
  {
   "cell_type": "code",
   "execution_count": 36,
   "metadata": {},
   "outputs": [],
   "source": [
    "df.to_csv(\"data/bybit/2022_5_BTC.csv\",index=False)"
   ]
  },
  {
   "cell_type": "code",
   "execution_count": null,
   "metadata": {},
   "outputs": [],
   "source": []
  }
 ],
 "metadata": {
  "kernelspec": {
   "display_name": "Python 3.9.12 ('.venv': poetry)",
   "language": "python",
   "name": "python3"
  },
  "language_info": {
   "codemirror_mode": {
    "name": "ipython",
    "version": 3
   },
   "file_extension": ".py",
   "mimetype": "text/x-python",
   "name": "python",
   "nbconvert_exporter": "python",
   "pygments_lexer": "ipython3",
   "version": "3.9.12"
  },
  "orig_nbformat": 4,
  "vscode": {
   "interpreter": {
    "hash": "6522b1ab3bdfb965681e52515310fc7074235cb0d5a089a61027de745587e984"
   }
  }
 },
 "nbformat": 4,
 "nbformat_minor": 2
}
